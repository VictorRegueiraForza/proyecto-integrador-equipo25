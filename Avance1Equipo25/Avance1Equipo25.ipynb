{
  "nbformat": 4,
  "nbformat_minor": 0,
  "metadata": {
    "colab": {
      "provenance": []
    },
    "kernelspec": {
      "name": "python3",
      "display_name": "Python 3"
    },
    "language_info": {
      "name": "python"
    }
  },
  "cells": [
    {
      "cell_type": "markdown",
      "source": [
        "**Equipo 25**\n",
        "\n",
        "\n",
        "## Integrantes\n",
        "\n",
        "\n",
        "* Victor Alejandro Regueira Romero - A01794404\n",
        "* Nathalia\n",
        "* Julián"
      ],
      "metadata": {
        "id": "mBv9LJaf1ums"
      }
    },
    {
      "cell_type": "markdown",
      "source": [
        "# Instrucciones"
      ],
      "metadata": {
        "id": "FyiXV4_q1bxJ"
      }
    },
    {
      "cell_type": "markdown",
      "source": [
        "Las siguientes son algunas de las preguntas comunes que podrán abordar a través del EDA:\n",
        "\n",
        "* ¿Hay valores faltantes en el conjunto de datos? ¿Se pueden identificar patrones de ausencia?\n",
        "* ¿Cuáles son las estadísticas resumidas del conjunto de datos?\n",
        "* ¿Hay valores atípicos en el conjunto de datos?\n",
        "* ¿Cuál es la cardinalidad de las variables categóricas?\n",
        "* ¿Existen distribuciones sesgadas en el conjunto de datos? ¿Necesitamos aplicar alguna transformación no lineal?\n",
        "* ¿Se identifican tendencias temporales? (En caso de que el conjunto incluya una dimensión de tiempo).\n",
        "* ¿Hay correlación entre las variables dependientes e independientes?\n",
        "* ¿Cómo se distribuyen los datos en función de diferentes categorías?\n",
        "* ¿Existen patrones o agrupaciones (clusters) en los datos con características similares?\n",
        "* ¿Se deberían normalizar las imágenes para visualizarlas mejor?\n",
        "* ¿Hay desequilibrio en las clases de la variable objetivo?\n",
        "\n",
        "\n",
        "Deberán contar con un repositorio en GitHubLinks to an external site., para compartir los resultados con el equipo docente."
      ],
      "metadata": {
        "id": "HBhUtfbh1iOi"
      }
    },
    {
      "cell_type": "markdown",
      "source": [
        "# Análsis Exploratorio de los Datos (EDA)"
      ],
      "metadata": {
        "id": "6j7h52Cs2Six"
      }
    },
    {
      "cell_type": "code",
      "source": [
        "\n",
        "import pandas as pd\n",
        "\n",
        "# Read the CSV file\n",
        "df = pd.read_csv('/content/silver_consumption.csv')\n",
        "\n",
        "# Check for duplicate rows\n",
        "duplicate_rows = df[df.duplicated()]\n",
        "print(\"Number of duplicate rows:\", len(duplicate_rows))\n",
        "\n",
        "# Check for rows with values in zero\n",
        "rows_with_zero = df[(df == 0).any(axis=1)]\n",
        "print(\"Number of rows with at least one zero value:\", len(rows_with_zero))\n",
        "\n",
        "# Descriptive statistics\n",
        "print(\"\\nDescriptive Statistics:\")\n",
        "print(df.describe())\n",
        "\n",
        "# Additional exploration (optional)\n",
        "# Check for missing values\n",
        "print(\"\\nMissing Values:\")\n",
        "print(df.isnull().sum())\n",
        "\n",
        "# Check data types\n",
        "print(\"\\nData Types:\")\n",
        "print(df.dtypes)\n"
      ],
      "metadata": {
        "colab": {
          "base_uri": "https://localhost:8080/"
        },
        "id": "5Y8IbEHS1tps",
        "outputId": "db36f15a-1b61-4710-bc56-64f516a307af"
      },
      "execution_count": 1,
      "outputs": [
        {
          "output_type": "stream",
          "name": "stdout",
          "text": [
            "Number of duplicate rows: 0\n",
            "Number of rows with at least one zero value: 2330\n",
            "\n",
            "Descriptive Statistics:\n",
            "               name  total_distance_used_sum  total_fuel_used_sum  \\\n",
            "count  42705.000000             42705.000000         42705.000000   \n",
            "mean     835.367802               586.501734            57.344018   \n",
            "std      242.907206               449.751518            37.262280   \n",
            "min       24.000000                 0.000000             0.000000   \n",
            "25%      639.000000               265.325417            27.473888   \n",
            "50%      840.000000               551.156077            57.061152   \n",
            "75%     1048.000000               768.635927            79.779944   \n",
            "max     1352.000000              3396.413886           234.320564   \n",
            "\n",
            "        consumption   performance  \n",
            "count  42560.000000  42038.000000  \n",
            "mean       8.027398      0.142393  \n",
            "std        2.855761      0.486021  \n",
            "min        0.000000      0.000000  \n",
            "25%        7.372371      0.074248  \n",
            "50%        8.451064      0.115396  \n",
            "75%        8.884624      0.131488  \n",
            "max       14.865050     25.508625  \n",
            "\n",
            "Missing Values:\n",
            "name                         0\n",
            "date                         0\n",
            "total_distance_used_sum      0\n",
            "total_fuel_used_sum          0\n",
            "consumption                145\n",
            "performance                667\n",
            "dtype: int64\n",
            "\n",
            "Data Types:\n",
            "name                         int64\n",
            "date                        object\n",
            "total_distance_used_sum    float64\n",
            "total_fuel_used_sum        float64\n",
            "consumption                float64\n",
            "performance                float64\n",
            "dtype: object\n"
          ]
        }
      ]
    },
    {
      "cell_type": "code",
      "source": [
        "df.info()"
      ],
      "metadata": {
        "colab": {
          "base_uri": "https://localhost:8080/"
        },
        "id": "xSgItvaI2lz4",
        "outputId": "a94b59d7-c933-4f67-c370-5d8a32767844"
      },
      "execution_count": 2,
      "outputs": [
        {
          "output_type": "stream",
          "name": "stdout",
          "text": [
            "<class 'pandas.core.frame.DataFrame'>\n",
            "RangeIndex: 42705 entries, 0 to 42704\n",
            "Data columns (total 6 columns):\n",
            " #   Column                   Non-Null Count  Dtype  \n",
            "---  ------                   --------------  -----  \n",
            " 0   name                     42705 non-null  int64  \n",
            " 1   date                     42705 non-null  object \n",
            " 2   total_distance_used_sum  42705 non-null  float64\n",
            " 3   total_fuel_used_sum      42705 non-null  float64\n",
            " 4   consumption              42560 non-null  float64\n",
            " 5   performance              42038 non-null  float64\n",
            "dtypes: float64(4), int64(1), object(1)\n",
            "memory usage: 2.0+ MB\n"
          ]
        }
      ]
    }
  ]
}